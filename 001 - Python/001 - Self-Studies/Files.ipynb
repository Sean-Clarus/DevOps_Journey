{
 "metadata": {
  "language_info": {
   "codemirror_mode": {
    "name": "ipython",
    "version": 3
   },
   "file_extension": ".py",
   "mimetype": "text/x-python",
   "name": "python",
   "nbconvert_exporter": "python",
   "pygments_lexer": "ipython3",
   "version": "3.8.3-final"
  },
  "orig_nbformat": 2,
  "kernelspec": {
   "name": "python38364bit06a34129db144270a87fb8eb3f0a97cb",
   "display_name": "Python 3.8.3 64-bit"
  }
 },
 "nbformat": 4,
 "nbformat_minor": 2,
 "cells": [
  {
   "cell_type": "code",
   "execution_count": 4,
   "metadata": {},
   "outputs": [],
   "source": [
    "fileObject = open(\"deneme1.txt\", \"w\") # \"w\" modunda acinca sadece yeni veriler yazabiliriz, eskileri siliyor\n",
    "                                      # cunku dosyayi her seferinde yeniden olusturuyor\n",
    "fileObject.write(\"Merhaba\")\n",
    "fileObject.close() # actigimiz dosyayi sonrasinda kapatmak cok onemli"
   ]
  },
  {
   "cell_type": "code",
   "execution_count": 6,
   "metadata": {},
   "outputs": [],
   "source": [
    "fileObject = open(\"deneme2.txt\", \"w\", encoding=\"utf-8\") # encoding= ile turkce vs karakterleri duzgun okumasi saglaniyor\n",
    "fileObject.write(\"Bu\")\n",
    "fileObject.write(\"bir\")\n",
    "fileObject.write(\"ornek\")\n",
    "fileObject.write(\"metindir\")\n",
    "fileObject.close()"
   ]
  },
  {
   "cell_type": "code",
   "execution_count": 7,
   "metadata": {},
   "outputs": [],
   "source": [
    "fileObject = open(\"deneme3.txt\", \"w\", encoding=\"utf-8\")\n",
    "fileObject.write(\"Bu\\n\") #\\n is called EOL (end of line) # \\n tek bir karakter sayilir\n",
    "fileObject.write(\"bir\\n\")\n",
    "fileObject.write(\"ornek\\n\")\n",
    "fileObject.write(\"metindir\\n\")\n",
    "fileObject.close()"
   ]
  },
  {
   "cell_type": "code",
   "execution_count": 8,
   "metadata": {},
   "outputs": [],
   "source": [
    "# list method\n",
    "fileObject = open(\"deneme4.txt\", \"w\", encoding=\"utf-8\")\n",
    "lines = [\"Bu\\n\", \"bir\\n\", \"ornek\\n\", \"metindir\\n\"] # sondaki \\n'i koymasak da olur.\n",
    "fileObject.writelines(lines)\n",
    "fileObject.close()"
   ]
  },
  {
   "cell_type": "code",
   "execution_count": 12,
   "metadata": {},
   "outputs": [],
   "source": [
    "# with ... as komutu ile close()'nun saglanmasi\n",
    "with open(\"deneme5.txt\", \"w\", encoding=\"utf-8\") as fileObject: \n",
    "    lines = [\"Bu\\n\", \"bir\\n\", \"ornek\\n\", \"metindir\\n\"]\n",
    "    fileObject.writelines(lines)"
   ]
  },
  {
   "cell_type": "code",
   "execution_count": 14,
   "metadata": {},
   "outputs": [],
   "source": [
    "with open(\"deneme6.txt\", \"w\") as fileObject: \n",
    "    fileObject.write(\"Python\")"
   ]
  },
  {
   "cell_type": "code",
   "execution_count": 16,
   "metadata": {
    "tags": []
   },
   "outputs": [
    {
     "output_type": "stream",
     "name": "stdout",
     "text": "Python\nis\nawesome\n"
    }
   ],
   "source": [
    "with open(\"deneme6.txt\", \"r\") as fileObject: # \"r\" read method, sadece okuyoruz\n",
    "    text = fileObject.read()\n",
    "    print(text)"
   ]
  },
  {
   "cell_type": "code",
   "execution_count": 18,
   "metadata": {
    "tags": []
   },
   "outputs": [
    {
     "output_type": "stream",
     "name": "stdout",
     "text": "Python\ni\n"
    }
   ],
   "source": [
    "with open(\"deneme6.txt\") as fileObject: # hicbir method belirtilmesse \"r\" olarak algiliyor\n",
    "    text = fileObject.read(8) # ilk 8 karakteri yazdiriyor, byte belirtilmesse hepsini okuyor\n",
    "    print(text)"
   ]
  },
  {
   "cell_type": "code",
   "execution_count": 21,
   "metadata": {
    "tags": []
   },
   "outputs": [
    {
     "output_type": "stream",
     "name": "stdout",
     "text": "Python\n\nis\n\n"
    }
   ],
   "source": [
    "with open(\"deneme6.txt\") as fileObject:\n",
    "    text = fileObject.readline() # readline ile butun satiri okuyor (. veya \\n gelinceye kadar)\n",
    "    print(text)\n",
    "    text = fileObject.readline()\n",
    "    print(text)"
   ]
  },
  {
   "cell_type": "code",
   "execution_count": 23,
   "metadata": {
    "tags": []
   },
   "outputs": [
    {
     "output_type": "stream",
     "name": "stdout",
     "text": "Python\nis\n\n"
    }
   ],
   "source": [
    "with open(\"deneme6.txt\") as fileObject:\n",
    "    text = fileObject.readline()\n",
    "    print(text, end=\"\") # sondaki \\n'i tanimayip bosluk birakmiyor\n",
    "    text = fileObject.readline()\n",
    "    print(text, end=\"\")"
   ]
  },
  {
   "cell_type": "code",
   "execution_count": 24,
   "metadata": {
    "tags": []
   },
   "outputs": [
    {
     "output_type": "stream",
     "name": "stdout",
     "text": "Python\nis\nawesome"
    }
   ],
   "source": [
    "with open(\"deneme6.txt\") as fileObject:\n",
    "    for lineText in fileObject.readlines(): # satir sayisini bilmiyoruz, readlines butun satirlari getiriyor\n",
    "        print(lineText, end=\"\")"
   ]
  },
  {
   "cell_type": "code",
   "execution_count": 26,
   "metadata": {
    "tags": []
   },
   "outputs": [
    {
     "output_type": "stream",
     "name": "stdout",
     "text": "Python\nis\nawesome"
    }
   ],
   "source": [
    "with open(\"deneme6.txt\") as fileObject:\n",
    "    for lineText in fileObject: # readlines'i kullanmak sart degil, bu sekilde de ok\n",
    "        print(lineText, end=\"\")"
   ]
  },
  {
   "cell_type": "code",
   "execution_count": 41,
   "metadata": {
    "tags": []
   },
   "outputs": [
    {
     "output_type": "stream",
     "name": "stdout",
     "text": "Python\nis\nawesome."
    }
   ],
   "source": [
    "with open(\"deneme6.txt\", \"r+\") as fileObject: # \"r+\" ==> dosya onceden yoksa olusturmaz, hata verir\n",
    "                                              # \"w+\" ==> dosyayi yeniden olusturacagi icin onceki herseyi siler\n",
    "                                              # \"a\" ==> yukaridaki ikisinin yerine \"a\" (append), silmeden ekliyor\n",
    "    for lineText in fileObject:\n",
    "        print(lineText, end=\"\")\n",
    "    fileObject.write(\".\")"
   ]
  },
  {
   "cell_type": "code",
   "execution_count": 42,
   "metadata": {},
   "outputs": [],
   "source": [
    "with open(\"deneme7.txt\", \"a\") as fileObject: # \"r+\" ==> dosya onceden yoksa olusturmaz, hata verir\n",
    "                                              # \"w+\" ==> dosyayi yeniden olusturacagi icin onceki herseyi siler\n",
    "                                              # \"a\" ==> yukaridaki ikisinin yerine \"a\" (append), silmeden ekliyor\n",
    "    fileObject.write(\"Python is awesome\")"
   ]
  },
  {
   "cell_type": "code",
   "execution_count": 43,
   "metadata": {},
   "outputs": [],
   "source": [
    "with open(\"deneme7.txt\", \"a\") as fileObject:\n",
    "    fileObject.write(\".\")"
   ]
  },
  {
   "cell_type": "code",
   "execution_count": 45,
   "metadata": {
    "tags": []
   },
   "outputs": [
    {
     "output_type": "stream",
     "name": "stdout",
     "text": "\n"
    }
   ],
   "source": [
    "with open(\"deneme8.txt\", \"a+\") as fileObject: # a+ hem ekleyip, hem okumamizi saglar\n",
    "    fileObject.write(\"Python is awesome.\\n\")\n",
    "    text = fileObject.read()\n",
    "    print(text) # burada birsey yazdirmadi, cunku pointer en sonda ve yazacak birsey bulamadi"
   ]
  },
  {
   "cell_type": "code",
   "execution_count": 47,
   "metadata": {
    "tags": []
   },
   "outputs": [
    {
     "output_type": "stream",
     "name": "stdout",
     "text": "Python is awesome.\nPython is awesome.\nPython is awesome.\nPython is awesome.\n\n"
    }
   ],
   "source": [
    "with open(\"deneme8.txt\", \"a+\") as fileObject: # a+ hem ekleyip, hem okumamizi saglar\n",
    "    fileObject.write(\"Python is awesome.\\n\")\n",
    "    fileObject.seek(0) # pointer basa donduguden butun text'i yazdiriyor\n",
    "    text = fileObject.read()\n",
    "    print(text)"
   ]
  },
  {
   "cell_type": "code",
   "execution_count": 52,
   "metadata": {
    "tags": []
   },
   "outputs": [
    {
     "output_type": "stream",
     "name": "stdout",
     "text": "Dosya: deneme8.txt\nPython is awesome. 1\nPython is awesome. 2\nPython is awesome. 3\nPython is awesome. 4\nPython is awesome. 5\n\n"
    }
   ],
   "source": [
    "with open(\"deneme8.txt\") as fileObject:\n",
    "    text = fileObject.read()\n",
    "    print(f\"Dosya: {fileObject.name}\")\n",
    "    print(text)\n",
    "\n",
    "with open(\"deneme_ters.txt\", \"w\") as fileObject:\n",
    "    print(f\"Dosya: {fileObject.name}\")\n",
    "    fileObject.write(text)\n",
    "    print(text)\n"
   ]
  },
  {
   "cell_type": "code",
   "execution_count": null,
   "metadata": {},
   "outputs": [],
   "source": []
  }
 ]
}