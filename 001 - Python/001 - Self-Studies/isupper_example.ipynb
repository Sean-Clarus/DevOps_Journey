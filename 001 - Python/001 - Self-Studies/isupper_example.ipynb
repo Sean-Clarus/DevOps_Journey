{
 "metadata": {
  "language_info": {
   "codemirror_mode": {
    "name": "ipython",
    "version": 3
   },
   "file_extension": ".py",
   "mimetype": "text/x-python",
   "name": "python",
   "nbconvert_exporter": "python",
   "pygments_lexer": "ipython3",
   "version": "3.8.3-final"
  },
  "orig_nbformat": 2,
  "kernelspec": {
   "name": "python38364bit06a34129db144270a87fb8eb3f0a97cb",
   "display_name": "Python 3.8.3 64-bit"
  }
 },
 "nbformat": 4,
 "nbformat_minor": 2,
 "cells": [
  {
   "cell_type": "code",
   "execution_count": 1,
   "metadata": {
    "tags": []
   },
   "outputs": [
    {
     "output_type": "stream",
     "name": "stdout",
     "text": "ASMEWPOIRFWSPHR\n"
    }
   ],
   "source": [
    "quote = \"\"\"\n",
    "Alright, but apart from the Sanitation, the Medicine, Education, Wine,\n",
    "Public Order, Irrigation, Roads, the Fresh-Water System,\n",
    "and Public Health, what have the Romans ever done for us?\n",
    "\"\"\"\n",
    " \n",
    "# Use a for loop and an if statement to print just the capitals in the quote above.\n",
    "\n",
    "uppercase = \"\"\n",
    "for char in quote:\n",
    "    if char.isupper():\n",
    "        uppercase = uppercase + char\n",
    "        \n",
    "print (uppercase)"
   ]
  },
  {
   "cell_type": "code",
   "execution_count": 5,
   "metadata": {
    "tags": []
   },
   "outputs": [
    {
     "output_type": "stream",
     "name": "stdout",
     "text": "A \t\nS \t\nM \t\nE \t\nW \t\nP \t\nO \t\nI \t\nR \t\nF \t\nW \t\nS \t\nP \t\nH \t\nR \t\n\n\n"
    }
   ],
   "source": [
    "quote = \"\"\"\n",
    "Alright, but apart from the Sanitation, the Medicine, Education, Wine,\n",
    "Public Order, Irrigation, Roads, the Fresh-Water System,\n",
    "and Public Health, what have the Romans ever done for us?\n",
    "\"\"\"\n",
    " \n",
    "# Use a for loop and an if statement to print just the capitals in the quote above.\n",
    "\n",
    "for char in quote:\n",
    "    if char in \"ABCDEFGHIJKLMNOPQRSTUVWXYZ\":\n",
    "        print(char)\n",
    "        \n",
    "print (char)"
   ]
  },
  {
   "cell_type": "code",
   "execution_count": null,
   "metadata": {},
   "outputs": [],
   "source": []
  }
 ]
}