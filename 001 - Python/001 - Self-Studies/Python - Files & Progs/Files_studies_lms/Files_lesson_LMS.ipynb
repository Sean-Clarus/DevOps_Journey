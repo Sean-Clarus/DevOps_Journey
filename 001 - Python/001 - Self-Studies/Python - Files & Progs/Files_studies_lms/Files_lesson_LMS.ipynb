{
 "metadata": {
  "language_info": {
   "codemirror_mode": {
    "name": "ipython",
    "version": 3
   },
   "file_extension": ".py",
   "mimetype": "text/x-python",
   "name": "python",
   "nbconvert_exporter": "python",
   "pygments_lexer": "ipython3",
   "version": "3.8.3-final"
  },
  "orig_nbformat": 2,
  "kernelspec": {
   "name": "python38364bit06a34129db144270a87fb8eb3f0a97cb",
   "display_name": "Python 3.8.3 64-bit"
  }
 },
 "nbformat": 4,
 "nbformat_minor": 2,
 "cells": [
  {
   "cell_type": "code",
   "execution_count": null,
   "metadata": {},
   "outputs": [],
   "source": [
    "# 'r'\tOpen for reading (default). If the file doesn't exist, FileNotFoundError will raise.\n",
    "\n",
    "# 'a'\tOpen for writing. It will append to the end of the file if it already exists. If there is no file, it will create it.\n",
    "\n",
    "# 'w'\tOpen for writing. It will be overwritten if the file already exists. If there is no file, it will create it.\n",
    "\n",
    "# 'x'\tOpen for exclusive creation, it will fail if the file already exists.\n",
    "\n",
    "# 'b'\tOpen in binary mode.\n",
    "\n",
    "# 't'\tOpen as a text file (default).\n",
    "\n",
    "# '+'\tOpen for updating (reading and writing).\n"
   ]
  },
  {
   "cell_type": "code",
   "execution_count": 3,
   "metadata": {
    "tags": []
   },
   "outputs": [
    {
     "output_type": "stream",
     "name": "stdout",
     "text": "<class '_io.TextIOWrapper'>\n"
    }
   ],
   "source": [
    "my_file = open(\"first_file.txt\")\n",
    "print(type(my_file))"
   ]
  },
  {
   "cell_type": "code",
   "execution_count": 4,
   "metadata": {
    "tags": []
   },
   "outputs": [
    {
     "output_type": "stream",
     "name": "stdout",
     "text": "Orca is a kind of Dolphin.\nBlue Whale is the largest animal known on earth.\nSharks are the sister group to the Rays (batoids).\nThe Tuna Fish can weigh up to 260 kg.\nSquid and Octopus are in the same class.\n"
    }
   ],
   "source": [
    "sea = open(\"fishes.txt\")\n",
    "print(sea.read())\n",
    "sea.close()"
   ]
  },
  {
   "cell_type": "code",
   "execution_count": 9,
   "metadata": {
    "tags": []
   },
   "outputs": [
    {
     "output_type": "stream",
     "name": "stdout",
     "text": "Orca is a kind of Dolphin.\nBlue W\n\nhale is the largest anima\n\nOrca is a kind of Dolphin.\nBlue W\n\n33\n"
    }
   ],
   "source": [
    "sea = open(\"fishes.txt\")\n",
    "\n",
    "print(sea.read(33))\n",
    "print()\n",
    "print(sea.read(25))\n",
    "print()\n",
    "sea.seek(0) # changes the cursor position to zero (beginning of the text)\n",
    "print(sea.read(33))\n",
    "print()\n",
    "print(sea.tell()) # returns the current cursor position\n",
    "\n",
    "sea.close()\n"
   ]
  },
  {
   "cell_type": "code",
   "execution_count": 10,
   "metadata": {
    "tags": []
   },
   "outputs": [
    {
     "output_type": "stream",
     "name": "stdout",
     "text": "Orca is a kind of Dolphin.\n\nBlue Whale is the largest animal known on earth.\n\nSharks are the sister group to the Rays (batoids).\n\n"
    }
   ],
   "source": [
    "sea = open(\"fishes.txt\", \"r\")\n",
    "print(sea.readline()) # reads the entire line\n",
    "print(sea.readline())\n",
    "print(sea.readline())\n",
    "\n",
    "sea.close()"
   ]
  },
  {
   "cell_type": "code",
   "execution_count": 14,
   "metadata": {
    "tags": []
   },
   "outputs": [
    {
     "output_type": "stream",
     "name": "stdout",
     "text": "Orca is a kin\nd of Dolphin.\n\n\nBlue Whale is\n"
    }
   ],
   "source": [
    "sea = open(\"fishes.txt\", \"r\")\n",
    "print(sea.readline(13))\n",
    "print(sea.readline(13))\n",
    "print(sea.readline(13))\n",
    "print(sea.readline(13))\n",
    "\n",
    "sea.close()"
   ]
  },
  {
   "cell_type": "code",
   "execution_count": 15,
   "metadata": {
    "tags": []
   },
   "outputs": [
    {
     "output_type": "stream",
     "name": "stdout",
     "text": "['Orca is a kind of Dolphin.\\n', 'Blue Whale is the largest animal known on earth.\\n', 'Sharks are the sister group to the Rays (batoids).\\n', 'The Tuna Fish can weigh up to 260 kg.\\n', 'Squid and Octopus are in the same class.']\n"
    }
   ],
   "source": [
    "sea = open(\"fishes.txt\", \"r\")\n",
    "print(sea.readlines()) # it reads the entire file line by line in the [list] form\n",
    "\n",
    "sea.close()"
   ]
  },
  {
   "cell_type": "code",
   "execution_count": 18,
   "metadata": {
    "tags": []
   },
   "outputs": [
    {
     "output_type": "stream",
     "name": "stdout",
     "text": "Orca is a kind of Dolphin.\n\n['Blue Whale is the largest animal known on earth.\\n', 'Sharks are the sister group to the Rays (batoids).\\n', 'The Tuna Fish can weigh up to 260 kg.\\n', 'Squid and Octopus are in the same class.']\n\n<class 'list'>\n"
    }
   ],
   "source": [
    "sea = open(\"fishes.txt\", \"r\")\n",
    "print(sea.readline())\n",
    "print(sea.readlines())\n",
    "print()\n",
    "print(type(sea.readlines()))\n",
    "sea.close()"
   ]
  },
  {
   "cell_type": "code",
   "execution_count": 19,
   "metadata": {
    "tags": []
   },
   "outputs": [
    {
     "output_type": "stream",
     "name": "stdout",
     "text": "Orca is a kind of Dolphin.\n\nBlue Whale is the largest animal known on earth.\n\nSharks are the sister group to the Rays (batoids).\n\nThe Tuna Fish can weigh up to 260 kg.\n\nSquid and Octopus are in the same class.\n"
    }
   ],
   "source": [
    "sea = open(\"fishes.txt\", \"r\")\n",
    "for line in sea:\n",
    "    print(line)\n",
    "\n",
    "sea.close()"
   ]
  },
  {
   "cell_type": "code",
   "execution_count": 20,
   "metadata": {
    "tags": []
   },
   "outputs": [
    {
     "output_type": "stream",
     "name": "stdout",
     "text": "Orca is a kind of Dolphin.\n\nBlue Whale is the largest animal known on earth.\n\nSharks are the sister group to the Rays (batoids).\n\nThe Tuna Fish can weigh up to 260 kg.\n\nSquid and Octopus are in the same class.\n"
    }
   ],
   "source": [
    "sea = open(\"fishes.txt\", \"r\")\n",
    "for line in sea.readlines():\n",
    "    print(line)\n",
    "\n",
    "sea.close()"
   ]
  },
  {
   "cell_type": "code",
   "execution_count": 21,
   "metadata": {
    "tags": []
   },
   "outputs": [
    {
     "output_type": "stream",
     "name": "stdout",
     "text": "Orca is a kind of Dolphin.\nBlue Whale is the largest animal known on earth.\nSharks are the sister group to the Rays (batoids).\nThe Tuna Fish can weigh up to 260 kg.\nSquid and Octopus are in the same class.\n"
    }
   ],
   "source": [
    "with open(\"fishes.txt\", \"r\") as sea:\n",
    "    print(sea.read())"
   ]
  },
  {
   "cell_type": "code",
   "execution_count": 22,
   "metadata": {
    "tags": []
   },
   "outputs": [
    {
     "output_type": "stream",
     "name": "stdout",
     "text": "This is the first line of my text file\n"
    }
   ],
   "source": [
    "with open(\"dummy_file.txt\", \"w\", encoding=\"utf-8\") as file:\n",
    "    file.write(\"This is the first line of my text file\")\n",
    "\n",
    "with open(\"dummy_file.txt\", \"r\", encoding=\"utf-8\") as file:\n",
    "    print(file.read())"
   ]
  },
  {
   "cell_type": "code",
   "execution_count": 27,
   "metadata": {
    "tags": []
   },
   "outputs": [
    {
     "output_type": "stream",
     "name": "stdout",
     "text": "My first sentence\nMy second sentence\nMy third sentence\nMy fourth sentence\nMy last sentence\n"
    }
   ],
   "source": [
    "with open(\"dummy_file.txt\", 'w', encoding=\"utf-8\") as file:\n",
    "    file.write('My first sentence\\n')\n",
    "    file.write('My second sentence\\n')\n",
    "    file.write('My third sentence\\n')\n",
    "    file.write('My fourth sentence\\n')\n",
    "    file.write('My last sentence')\n",
    "\n",
    "with open(\"dummy_file.txt\", 'r', encoding=\"utf-8\") as file:\n",
    "    print(file.read())"
   ]
  },
  {
   "cell_type": "code",
   "execution_count": 38,
   "metadata": {
    "tags": []
   },
   "outputs": [
    {
     "output_type": "stream",
     "name": "stdout",
     "text": "Banana\nOrange\nApple\nStrawberry\nCherry\n\n['Banana\\n', 'Orange\\n', 'Apple\\n', 'Strawberry\\n', 'Cherry\\n']\n"
    }
   ],
   "source": [
    "fruits = ['Banana', 'Orange', 'Apple', 'Strawberry', 'Cherry']\n",
    "\n",
    "with open(\"fruits\", \"w\", encoding=\"utf-8\") as file:\n",
    "    for basket in fruits:\n",
    "        file.write(basket + \"\\n\") # adds a newline character to each string\n",
    "\n",
    "with open(\"fruits\", \"r\", encoding=\"utf-8\") as file:\n",
    "    print(file.read())\n",
    "\n",
    "with open(\"fruits\", \"r\", encoding=\"utf-8\") as file:\n",
    "    print(file.readlines())\n"
   ]
  },
  {
   "cell_type": "code",
   "execution_count": 39,
   "metadata": {
    "tags": []
   },
   "outputs": [
    {
     "output_type": "stream",
     "name": "stdout",
     "text": "Live to help others live.\n"
    }
   ],
   "source": [
    "with open(\"new_file.txt\", \"w\", encoding=\"utf-8\") as file:\n",
    "    file.write('Live to help others live.')\n",
    "    \n",
    "with open(\"new_file.txt\", \"r\", encoding=\"utf-8\") as file:\n",
    "    print(file.read())"
   ]
  },
  {
   "cell_type": "code",
   "execution_count": 40,
   "metadata": {
    "tags": []
   },
   "outputs": [
    {
     "output_type": "stream",
     "name": "stdout",
     "text": "Banana\nOrange\nApple\nStrawberry\nCherry\n\n['Banana\\n', 'Orange\\n', 'Apple\\n', 'Strawberry\\n', 'Cherry\\n']\n"
    }
   ],
   "source": [
    "fruits = ['Banana\\n', 'Orange\\n', 'Apple\\n', 'Strawberry\\n', 'Cherry\\n']\n",
    "\n",
    "with open(\"fruits1.txt\", 'w', encoding=\"utf-8\") as file:\n",
    "    file.writelines(fruits)  # takes an iterator for writing\n",
    "   \n",
    "with open(\"fruits1.txt\", 'r', encoding=\"utf-8\") as file:\n",
    "    print(file.read())\n",
    "\n",
    "with open(\"fruits1.txt\", 'r', encoding=\"utf-8\") as file:\n",
    "    print(file.readlines())"
   ]
  },
  {
   "cell_type": "code",
   "execution_count": 7,
   "metadata": {
    "tags": []
   },
   "outputs": [
    {
     "output_type": "stream",
     "name": "stdout",
     "text": "['Orca is a kind of Dolphin.\\n', 'Blue Whale is the largest animal known on earth.\\n', 'Sharks are the sister group to the Rays (batoids).\\n', 'The Tuna Fish can weigh up to 260 kg.\\n', 'Squid and Octopus are in the same class.\\n', '\\n']\n\nOrca is a kind of Dolphin.\n\nBlue Whale is the largest animal known on earth.\n\nSharks are the sister group to the Rays (batoids).\n\nThe Tuna Fish can weigh up to 260 kg.\n\nSquid and Octopus are in the same class.\n\n\n\n\n"
    }
   ],
   "source": [
    "with open(\"fishes1.txt\", \"r\") as sea:\n",
    "    fish_lines = sea.readlines()\n",
    "    print(fish_lines)\n",
    "\n",
    "print()\n",
    "\n",
    "with open(\"fishes1.txt\", 'w') as sea:\n",
    "    for reef in fish_lines:\n",
    "        sea.write(reef + \"\\n\")\n",
    "\n",
    "with open(\"fishes1.txt\", \"r\") as sea:\n",
    "    print(sea.read())\n"
   ]
  },
  {
   "cell_type": "code",
   "execution_count": null,
   "metadata": {},
   "outputs": [],
   "source": [
    " "
   ]
  }
 ]
}